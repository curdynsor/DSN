{
  "nbformat": 4,
  "nbformat_minor": 0,
  "metadata": {
    "colab": {
      "provenance": [],
      "include_colab_link": true
    },
    "kernelspec": {
      "name": "python3",
      "display_name": "Python 3"
    },
    "language_info": {
      "name": "python"
    }
  },
  "cells": [
    {
      "cell_type": "markdown",
      "metadata": {
        "id": "view-in-github",
        "colab_type": "text"
      },
      "source": [
        "<a href=\"https://colab.research.google.com/github/curdynsor/DSN/blob/main/DSN_Internship_Coding_Assessment.ipynb\" target=\"_parent\"><img src=\"https://colab.research.google.com/assets/colab-badge.svg\" alt=\"Open In Colab\"/></a>"
      ]
    },
    {
      "cell_type": "markdown",
      "source": [
        "## Introduction\n",
        "\n",
        "Welcome to the DSN Internship Coding Challenge! This assessment will put your Python programming and problem-solving abilities to the test. The assessment is divided into two sections:\n",
        "\n",
        "- Section one of the assessmnet will require you to build a recall evaluation metric without using any external libraries.\n",
        "\n",
        "- Section two of the assessment will put your knowledge of \"list\" in Python to the test.\n",
        "\n",
        "Good luck! If you have questions about the framing of the questions, please contact **recruitment@datasciencenigeria.ai**\n",
        "\n",
        "### How to Use and Submit this Notebook.\n",
        "- Make a copy of this document and rename it **Firstname_Lastname_DSNInternshipCodingAssessment.ipynb**\n",
        "- Before attempting to submit, ensure that you have ran all of the cells in your notebook and the output visible.\n",
        "- Once you’ve completed all tasks, save and download a copy of the notebook as .ipynb\n",
        "- Submit a link (make sure that the link is set to \"Anyone on the internet with the link can view\") and the downloaded copy of your final notebook via this [link](https://forms.gle/wCnajnhCZBvqJH5Q9).\n",
        "\n",
        "### What Not to Do.\n",
        "- Do not share this document with any external party\n",
        "- No teamwork is permitted\n",
        "- No external libraries like (NumPy, Pandas, Keras, etc.) is allowed. Use only pure python\n",
        "- After submitting a copy of your script, you are not permitted to make any changes to the online version; any discrepancy between the online and submitted copies will render your application null and void."
      ],
      "metadata": {
        "id": "mNzNT79JEDS1"
      }
    },
    {
      "cell_type": "markdown",
      "source": [
        "## Section One\n",
        "\n",
        "Without using any external libraries (NumPy, Pandas, Keras, SkLearn etc.), build a **Recall Algorithm** that is capable of handling only binary classification (You can assume the positive label is 0). The function should take in two keyword arguments, “actual” and “predicted”. Both arguments are a list of numbers (integers) of equal length. The function should return a float value between 0 and 1 rounded up to two significant figures. \n",
        "\n",
        "**Example 1:** \n",
        "\n",
        "Input: actual = [0, 1, 0, 0, 1, 1], predicted = [0, 0, 1, 0, 0, 1] \n",
        "\n",
        "recall (actual, predicted)\n",
        "\n",
        "Output: 0.67 \n",
        "\n",
        "**Example 2:** \n",
        "\n",
        "Input: actual = [1, 1, 1, 0, 1, 0, 0, 1], predicted = [1, 0, 1, 0, 0, 1, 0, 1]  \n",
        "\n",
        "recall (actual, predicted)\n",
        "\n",
        "Output: 0.67"
      ],
      "metadata": {
        "id": "wZ2tUoaxMLM6"
      }
    },
    {
      "cell_type": "code",
      "execution_count": null,
      "metadata": {
        "id": "Gv4ehXiyD8Rx"
      },
      "outputs": [],
      "source": [
        "# Do not change the name of the function and arguments\n",
        "def recall (actual, predicted): \n",
        "  ... \n",
        "  return 0.00"
      ]
    },
    {
      "cell_type": "code",
      "source": [
        "# Do not edit this section\n",
        "result_1 = recall([0, 1, 0, 0, 1, 1], [0, 0, 1, 0, 0, 1])\n",
        "\n",
        "print(f\"Example 1: The Recall value is {result_1}\")\n",
        "\n",
        "result_2 = recall([1, 1, 1, 0, 1, 0, 0, 1], [1, 0, 1, 0, 0, 1, 0, 1])\n",
        "\n",
        "print(f\"Example 2: The Recall value is {result_2}\")"
      ],
      "metadata": {
        "colab": {
          "base_uri": "https://localhost:8080/"
        },
        "id": "fMMrsNkhPJyc",
        "outputId": "9c24833b-722c-4d79-a454-e7dad431fb47"
      },
      "execution_count": null,
      "outputs": [
        {
          "output_type": "stream",
          "name": "stdout",
          "text": [
            "Example 1: The Recall value is 0.0\n",
            "Example 2: The Recall value is 0.0\n"
          ]
        }
      ]
    },
    {
      "cell_type": "markdown",
      "source": [
        "## Section Two\n",
        "\n",
        "Write a function flatten_lists that takes in a list of lists and outputs a sorted list of elements of sublists of the input list.\n",
        "\n",
        "> **Example 1:**\n",
        ">\n",
        "> Input: actual = [ [2,13,44], [6,7] ]\n",
        ">\n",
        "> flatten_lists (list_of_list)\n",
        ">\n",
        "> Output: [2, 6, 7, 13, 44]\n",
        "\n",
        "> **Example 2:** \n",
        ">\n",
        "> Input: actual = [ [10], [90, 30], [11,12] ]\n",
        ">\n",
        "> flatten_lists (list_of_list)\n",
        "> \n",
        "> Output: [10, 11, 12, 30, 90]\n",
        "\n",
        "\n"
      ],
      "metadata": {
        "id": "ajatrt0HEB7e"
      }
    },
    {
      "cell_type": "code",
      "source": [
        "# Do not change the name of the function and arguments\n",
        "def flatten_lists(list_of_list):\n",
        "    ...\n",
        "    return []"
      ],
      "metadata": {
        "id": "410j-TJlO5t6"
      },
      "execution_count": null,
      "outputs": []
    },
    {
      "cell_type": "code",
      "source": [
        "# Do not edit this section\n",
        "result_1 = flatten_lists([ [2,13,44], [6,7] ])\n",
        "\n",
        "print(f\"Example 1: The flatten lists is {result_1}\")\n",
        "\n",
        "result_2 = flatten_lists([ [10], [90, 30], [11,12] ])\n",
        "\n",
        "print(f\"Example 2: The flatten lists is {result_2}\")"
      ],
      "metadata": {
        "colab": {
          "base_uri": "https://localhost:8080/"
        },
        "id": "8Cex0bAaO_bG",
        "outputId": "25818c06-f15d-4636-993a-62cd94a215ae"
      },
      "execution_count": null,
      "outputs": [
        {
          "output_type": "stream",
          "name": "stdout",
          "text": [
            "Example 1: The flatten lists is []\n",
            "Example 2: The flatten lists is []\n"
          ]
        }
      ]
    },
    {
      "cell_type": "markdown",
      "source": [
        "## Addtional Point\n",
        "Kindly outline your solution for the two section, explaining your solution and why you favour one method over another.\n",
        "\n",
        "Section 1 My Solution: models of positive and negative variables were declared and assigned values. the recall algorithm function was declared to reference the models. \n",
        "\n",
        "Section 2 My Solution: the function in the nested list identifies each set of list, iterates over it and flattens it."
      ],
      "metadata": {
        "id": "xg5DiYB1S6Nk"
      }
    },
    {
      "cell_type": "markdown",
      "source": [
        "# **SECTION 1 -- SOLUTION **\n",
        "# Assume positive class: 0 and negative class:1\n",
        "# // True Positive:If model predicts Positive class correctly then its True Positive\n",
        "\n",
        " #True Positive\n",
        "def true_positive(actual, predicted):\n",
        "    tp = 0\n",
        "    for gt, pred in zip(actual, predicted):\n",
        "        if gt == 0 and pred == 0:\n",
        "            tp +=1\n",
        "    return tp\n",
        "\n",
        "# //True Negative:\n",
        "# If model predicts Negative class correctly then its True Negative.\n",
        "\n",
        "#True Negative\n",
        "def true_negative(actual, predicted):\n",
        "    tn = 0\n",
        "    for gt, pred in zip(actual, predicted):\n",
        "        if gt == 1 and pred == 1:\n",
        "            tn +=1\n",
        "    return tn\n",
        "\n",
        "# //False Positive:\n",
        "# If model predicts Positive class incorrectly then its False Positive.\n",
        "\n",
        "#False Positive\n",
        "def false_positive(actual, predicted):\n",
        "    fp = 0\n",
        "    for gt, pred in zip(actual, predicted):\n",
        "        if gt == 1 and pred == 0:\n",
        "            fp +=1\n",
        "    return fp\n",
        "\n",
        "# //False Negative:\n",
        "# If model predicts Negative class incorrectly then its False Negative.\n",
        "\n",
        " #False Negative\n",
        "def false_negative(actual, predicted):\n",
        "    fn = 0\n",
        "    for gt, pred in zip(actual, predicted):\n",
        "        if gt == 0 and pred == 1:\n",
        "            fn +=1\n",
        "    return fn\n",
        "\n",
        "# true_positive(actual, predicted)\n",
        "#  true_negative(actual, predicted)\n",
        "#  false_positive(actual, predicted) \n",
        "#  false_negative(actual, predicted)\n",
        "\n",
        "# //Recall Algorithm function\n",
        "\n",
        "def recall(actual, predicted):\n",
        "    tp = true_positive(actual, predicted)  \n",
        "    fn = false_negative(actual, predicted)  \n",
        "    prec = tp/ (tp + fn)  \n",
        "    return prec\n",
        "\n",
        "# Do not edit this section\n",
        "result_1 = recall([0, 1, 0, 0, 1, 1], [0, 0, 1, 0, 0, 1])\n",
        "\n",
        "print(f\"Example 1: The Recall value is {result_1}\")\n",
        "\n",
        "result_2 = recall([1, 1, 1, 0, 1, 0, 0, 1], [1, 0, 1, 0, 0, 1, 0, 1])\n",
        "\n",
        "print(f\"Example 2: The Recall value is {result_2}\")\n",
        "Example 1: The Recall value is 0.6666666666666666\n",
        "Example 2: The Recall value is 0.6666666666666666\n",
        "##SECTION 2 SOLUTION\n",
        "# Do not change the name of the function and arguments\n",
        "\n",
        "def flatten_lists(list_of_list):\n",
        "\n",
        "    result = []\n",
        "    seen = set()\n",
        "    for inner_list in list_of_list:\n",
        "        for x in inner_list:\n",
        "            if x not in seen:\n",
        "                result.append(x)\n",
        "                seen.add(x)\n",
        "    return result\n",
        "    \n",
        "result_1 = flatten_lists([ [2,13,44], [6,7] ])\n",
        "\n",
        "print(f\"Example 1: The flatten lists is {result_1}\")\n",
        "\n",
        "result_2 = flatten_lists([ [10], [90, 30], [11,12] ])\n",
        "\n",
        "print(f\"Example 2: The flatten lists is {result_2}\")\n",
        "Example 1: The flatten lists is [2, 13, 44, 6, 7]\n",
        "Example 2: The flatten lists is [10, 90, 30, 11, 12]"
      ],
      "metadata": {
        "id": "X0UW_2LeTpDz"
      }
    }
  ]
}
