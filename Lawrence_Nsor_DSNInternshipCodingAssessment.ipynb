{
 "cells": [
  {
   "cell_type": "markdown",
   "id": "80bae4be",
   "metadata": {},
   "source": [
    "Addtional Point\n",
    "Kindly outline your solution for the two section, explaining your solution and why you favour one method over another.\n",
    "\n",
    "Section 1\n",
    "My Solution: models of positive and negative variables were declared and assigned values. the recall algorithm function was declared to reference the models.\n",
    "Section 2\n",
    "My Solution: the function in the nested list identifies each set of list, iterates over it and flattens it."
   ]
  },
  {
   "cell_type": "code",
   "execution_count": 22,
   "id": "5844f964",
   "metadata": {},
   "outputs": [
    {
     "name": "stdout",
     "output_type": "stream",
     "text": [
      "Example 1: The Recall value is 0.6666666666666666\n",
      "Example 2: The Recall value is 0.6666666666666666\n"
     ]
    }
   ],
   "source": [
    "# **SECTION 1 -- SOLUTION **\n",
    "# Assume positive class: 0 and negative class:1\n",
    "# // True Positive:If model predicts Positive class correctly then its True Positive\n",
    "\n",
    " #True Positive\n",
    "def true_positive(actual, predicted):\n",
    "    tp = 0\n",
    "    for gt, pred in zip(actual, predicted):\n",
    "        if gt == 0 and pred == 0:\n",
    "            tp +=1\n",
    "    return tp\n",
    "\n",
    "# //True Negative:\n",
    "# If model predicts Negative class correctly then its True Negative.\n",
    "\n",
    "#True Negative\n",
    "def true_negative(actual, predicted):\n",
    "    tn = 0\n",
    "    for gt, pred in zip(actual, predicted):\n",
    "        if gt == 1 and pred == 1:\n",
    "            tn +=1\n",
    "    return tn\n",
    "\n",
    "# //False Positive:\n",
    "# If model predicts Positive class incorrectly then its False Positive.\n",
    "\n",
    "#False Positive\n",
    "def false_positive(actual, predicted):\n",
    "    fp = 0\n",
    "    for gt, pred in zip(actual, predicted):\n",
    "        if gt == 1 and pred == 0:\n",
    "            fp +=1\n",
    "    return fp\n",
    "\n",
    "# //False Negative:\n",
    "# If model predicts Negative class incorrectly then its False Negative.\n",
    "\n",
    " #False Negative\n",
    "def false_negative(actual, predicted):\n",
    "    fn = 0\n",
    "    for gt, pred in zip(actual, predicted):\n",
    "        if gt == 0 and pred == 1:\n",
    "            fn +=1\n",
    "    return fn\n",
    "\n",
    "# true_positive(actual, predicted)\n",
    "#  true_negative(actual, predicted)\n",
    "#  false_positive(actual, predicted) \n",
    "#  false_negative(actual, predicted)\n",
    "\n",
    "# //Recall Algorithm function\n",
    "\n",
    "def recall(actual, predicted):\n",
    "    tp = true_positive(actual, predicted)  \n",
    "    fn = false_negative(actual, predicted)  \n",
    "    prec = tp/ (tp + fn)  \n",
    "    return prec\n",
    "\n",
    "# Do not edit this section\n",
    "result_1 = recall([0, 1, 0, 0, 1, 1], [0, 0, 1, 0, 0, 1])\n",
    "\n",
    "print(f\"Example 1: The Recall value is {result_1}\")\n",
    "\n",
    "result_2 = recall([1, 1, 1, 0, 1, 0, 0, 1], [1, 0, 1, 0, 0, 1, 0, 1])\n",
    "\n",
    "print(f\"Example 2: The Recall value is {result_2}\")"
   ]
  },
  {
   "cell_type": "code",
   "execution_count": 49,
   "id": "a6e5b136",
   "metadata": {},
   "outputs": [
    {
     "name": "stdout",
     "output_type": "stream",
     "text": [
      "Example 1: The flatten lists is [2, 13, 44, 6, 7]\n",
      "Example 2: The flatten lists is [10, 90, 30, 11, 12]\n"
     ]
    }
   ],
   "source": [
    "##SECTION 2 SOLUTION\n",
    "# Do not change the name of the function and arguments\n",
    "\n",
    "def flatten_lists(list_of_list):\n",
    "\n",
    "    result = []\n",
    "    seen = set()\n",
    "    for inner_list in list_of_list:\n",
    "        for x in inner_list:\n",
    "            if x not in seen:\n",
    "                result.append(x)\n",
    "                seen.add(x)\n",
    "    return result\n",
    "    \n",
    "result_1 = flatten_lists([ [2,13,44], [6,7] ])\n",
    "\n",
    "print(f\"Example 1: The flatten lists is {result_1}\")\n",
    "\n",
    "result_2 = flatten_lists([ [10], [90, 30], [11,12] ])\n",
    "\n",
    "print(f\"Example 2: The flatten lists is {result_2}\")"
   ]
  },
  {
   "cell_type": "code",
   "execution_count": null,
   "id": "6340dcac",
   "metadata": {},
   "outputs": [],
   "source": []
  }
 ],
 "metadata": {
  "kernelspec": {
   "display_name": "Python 3 (ipykernel)",
   "language": "python",
   "name": "python3"
  },
  "language_info": {
   "codemirror_mode": {
    "name": "ipython",
    "version": 3
   },
   "file_extension": ".py",
   "mimetype": "text/x-python",
   "name": "python",
   "nbconvert_exporter": "python",
   "pygments_lexer": "ipython3",
   "version": "3.10.8"
  }
 },
 "nbformat": 4,
 "nbformat_minor": 5
}
